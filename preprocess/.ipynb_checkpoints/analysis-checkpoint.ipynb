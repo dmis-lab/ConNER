{
 "cells": [
  {
   "cell_type": "code",
   "execution_count": 3,
   "id": "1696c56c",
   "metadata": {},
   "outputs": [],
   "source": [
    "import matplotlib.pyplot as plt"
   ]
  },
  {
   "cell_type": "code",
   "execution_count": 2,
   "id": "02abf7b7",
   "metadata": {},
   "outputs": [],
   "source": [
    "# NCBI-disease\n",
    "ncbi_length_cons_dict = {1:0.8827, 2:0.9694, 3:0.9708, 4:0.9788, 5:0.9847, 6:1, 7:1, 8:1, 9:1, 10:1, 11:1, 12:1, 13:1, 14:1, 19:1, 20:1, 22:1}\n",
    "# CDR\n",
    "cdr_length_cons_dict = {1:0.9526, 2:0.9716, 3:0.9808, 4:0.9889, 5:0.9906, 6:1, 7:0.9815, 8:1, 9:1, 10:1, 11:1, 12:1, 13:1, 14:1, 15:1, 18:1, 19:1, 20:1, 21:1, 29:1, 30:1, 34:1}\n",
    "# Anatem\n",
    "anat_length_cons_dict = {1:0.8260, 2:0.9118, 3:0.9076, 4:0.9311, 5:0.9293, 6:0.9786, 7:1, 8:0.95, 9:1, 10:1, 11:1, 12:1, 13:1, 14:1}\n",
    "# Gellus\n",
    "gell_length_cons_dict = {1:0.7067, 2:0.8350, 3:0.9036, 4:0.8519, 5:1}"
   ]
  },
  {
   "cell_type": "code",
   "execution_count": 1,
   "id": "5bd5b656",
   "metadata": {},
   "outputs": [],
   "source": [
    "#Test Prediction - Sentence\n",
    "ncbi_test_sent_biobert = {}\n",
    "ncbi_test_sent_biolm = {}\n",
    "cdr_test_sent_biobert = {}\n",
    "cdr_test_sent_biolm = {}\n",
    "anat_test_sent_biobert = {}\n",
    "anat_test_sent_biolm = {}\n",
    "gell_test_sent_biobert = {}\n",
    "gell_test_sent_biolm = {}"
   ]
  },
  {
   "cell_type": "code",
   "execution_count": null,
   "id": "e4bd2ce5",
   "metadata": {},
   "outputs": [],
   "source": [
    "#Test Prediction - Document\n",
    "ncbi_test_doc_biobert = {}\n",
    "ncbi_test_doc_biolm = {}\n",
    "cdr_test_doc_biobert = {}\n",
    "cdr_test_doc_biolm = {}\n",
    "anat_test_doc_biobert = {}\n",
    "anat_test_doc_biolm = {}\n",
    "gell_test_doc_biobert = {}\n",
    "gell_test_doc_biolm = {}"
   ]
  }
 ],
 "metadata": {
  "kernelspec": {
   "display_name": "Python 3 (ipykernel)",
   "language": "python",
   "name": "python3"
  },
  "language_info": {
   "codemirror_mode": {
    "name": "ipython",
    "version": 3
   },
   "file_extension": ".py",
   "mimetype": "text/x-python",
   "name": "python",
   "nbconvert_exporter": "python",
   "pygments_lexer": "ipython3",
   "version": "3.9.12"
  }
 },
 "nbformat": 4,
 "nbformat_minor": 5
}
